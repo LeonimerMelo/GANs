{
  "cells": [
    {
      "cell_type": "markdown",
      "metadata": {
        "id": "view-in-github",
        "colab_type": "text"
      },
      "source": [
        "<a href=\"https://colab.research.google.com/github/LeonimerMelo/GANs/blob/main/Simple_1D_MLP_GAN_v9.ipynb\" target=\"_parent\"><img src=\"https://colab.research.google.com/assets/colab-badge.svg\" alt=\"Open In Colab\"/></a>"
      ]
    },
    {
      "cell_type": "markdown",
      "source": [
        "#1D MLP Generative Adversarial Networks (GANs)\n",
        "Este notebook inclui uma implementação de uma GAN 1D. Tudo, desde a preparação do ambiente até o treinamento da GAN, está incluído. Este código é aplicado para gerar uma linha reta onde \"y = x\". Essa abordagem proporcionará uma compreensão fundamental dos componentes e do funcionamento das GANs e de como elas podem ser utilizadas para uma GAN 1D.  \n",
        "\n",
        "Uma tarefa simples que oferece um bom contexto para desenvolver uma GAN do zero é uma função unidimensional. Isso ocorre porque tanto as amostras reais quanto as geradas podem ser plotadas e inspecionadas visualmente, permitindo entender o que foi aprendido. Além disso, uma função simples não exige modelos de redes neurais sofisticados, o que facilita a compreensão dos modelos específicos de gerador e discriminador utilizados na arquitetura."
      ],
      "metadata": {
        "id": "4fdLeEp33pYE"
      }
    },
    {
      "cell_type": "markdown",
      "source": [
        "### Import Modules"
      ],
      "metadata": {
        "id": "IHPgc5Un3om0"
      }
    },
    {
      "cell_type": "code",
      "source": [
        "# A module to transform data to NumPy arrays and create random noise\n",
        "import numpy as np\n",
        "from keras.models import Sequential\n",
        "# Layers to be used in generator and discriminator\n",
        "from keras.layers import Dense, LeakyReLU, Input\n",
        "# A module to plot generated data\n",
        "import matplotlib.pyplot as plt\n",
        "from IPython import display"
      ],
      "metadata": {
        "id": "Cx0tVRPE5M53"
      },
      "execution_count": 1,
      "outputs": []
    },
    {
      "cell_type": "markdown",
      "source": [
        "### Prepare and Pre-Process the Dataset"
      ],
      "metadata": {
        "id": "qhnMjoxR5WRN"
      }
    },
    {
      "cell_type": "code",
      "source": [
        "# Create variable X\n",
        "X_train = np.linspace(-1, 1, 1000)\n",
        "# Reshape X variable\n",
        "X_train = X_train.reshape(-1, 1)\n",
        "print(X_train.shape)\n",
        "print(X_train.min(), X_train.max())\n",
        "# Create variable Y such that y = x\n",
        "y_train = X_train\n",
        "# outra forma de curva: seno(x)\n",
        "# y_train = np.sin(np.pi*X_train)\n",
        "plt.plot(X_train, y_train, 'r')\n",
        "plt.title('X_train')\n",
        "plt.grid()\n",
        "plt.show()"
      ],
      "metadata": {
        "id": "iuiTYrGY5ezm",
        "colab": {
          "base_uri": "https://localhost:8080/",
          "height": 488
        },
        "outputId": "dea62c73-3a0b-4457-9a37-3770e5edee46"
      },
      "execution_count": 9,
      "outputs": [
        {
          "output_type": "stream",
          "name": "stdout",
          "text": [
            "(1000, 1)\n",
            "-1.0 1.0\n"
          ]
        },
        {
          "output_type": "display_data",
          "data": {
            "text/plain": [
              "<Figure size 640x480 with 1 Axes>"
            ],
            "image/png": "[encoded data removed]"
          },
          "metadata": {}
        }
      ]
    },
    {
      "cell_type": "markdown",
      "source": [
        "## Model Implementation"
      ],
      "metadata": {
        "id": "t_objgEq5gRu"
      }
    },
    {
      "cell_type": "markdown",
      "source": [
        "## Build the Generator\n",
        "A arquitetura do gerador pode variar dependendo do problema específico a ser abordado. Geralmente, ele é composto por diversas camadas totalmente conectadas e de upsampling para aumentar a resolução da saída. No modelo de GAN 1D implementado, o gerador é construído utilizando um modelo sequencial do Keras. Ele começa com uma camada de entrada que recebe um vetor de ruído aleatório como entrada, com a dimensão do ruído definida como 100. Embora outros valores possam ser utilizados, um valor de 100 é frequentemente mencionado na literatura sobre implementação de GANs. A entrada é então processada por uma camada Dense com 16 unidades. Em seguida, é aplicada a função de ativação LeakyReLU com um valor alpha de 0,01 para lidar com valores de entrada negativos.  \n",
        "\n",
        "Nas GANs, diversas funções de ativação podem ser empregadas, incluindo ReLU, Tanh, Sigmoid, Linear e LeakyReLU. A escolha da função de ativação depende do problema específico a ser resolvido. A camada Dense final possui uma função de ativação Linear e duas unidades de saída. A função de ativação Linear é utilizada na camada de saída do gerador para gerar valores contínuos sem um intervalo de restrição. Diferente de funções como Sigmoid ou Tanh, que limitam os valores de saída a um determinado intervalo, a ativação Linear permite que os valores de saída assumam qualquer valor real. Embora os dados de entrada estejam no intervalo entre -1 e 1, eles podem ser ajustados para se adequar a qualquer valor real. Portanto, o uso de uma função de ativação Linear na camada de saída do gerador é considerado apropriado neste cenário."
      ],
      "metadata": {
        "id": "8_NrHsg_5j0L"
      }
    },
    {
      "cell_type": "markdown",
      "source": [
        "<center><img src='https://drive.google.com/uc?id=1UsFuT5CcafTfI4Sd-GFkh97cDRwIlipZ' width=600></center>"
      ],
      "metadata": {
        "id": "TJKXdHPQivC3"
      }
    },
    {
      "cell_type": "code",
      "source": [
        "# from ast import Name\n",
        "def build_generator(noise_dim):\n",
        "  # Add layers one after one in the sequence\n",
        "  model = Sequential(name='Generator')\n",
        "  model.add(Input((noise_dim,)))\n",
        "  # First fully connected layer\n",
        "  model.add(Dense(16, kernel_initializer = 'he_uniform'))\n",
        "  # Add LeakyReLU activation function\n",
        "  model.add(LeakyReLU(0.01))\n",
        "  # Output layer with the shape of 2\n",
        "  # model.add(Dense(2, activation = 'linear'))\n",
        "  model.add(Dense(2, activation = 'tanh'))\n",
        "  return model"
      ],
      "metadata": {
        "id": "x3EJkF1V5vIB"
      },
      "execution_count": 10,
      "outputs": []
    },
    {
      "cell_type": "markdown",
      "source": [
        "## Build the Discriminator\n",
        "O discriminador em uma GAN avalia a autenticidade dos pontos gerados e os classifica como reais ou falsos. Ele é treinado para prever a probabilidade de que os pontos fornecidos sejam reais (extraídos do conjunto de dados real) ou falsos (gerados pelo gerador). O discriminador é implementado como uma rede neural profunda totalmente conectada com saída de classificação binária. A entrada do discriminador é treinada com dados reais para maximizar a probabilidade de classificá-los corretamente como reais.  \n",
        "\n",
        "A arquitetura do discriminador é semelhante à de um classificador padrão, com várias camadas totalmente conectadas para extrair características dos pontos de dados de entrada e realizar a classificação final. A função de ativação usada no discriminador pode ser ReLU ou LeakyReLU, e a função de perda geralmente utilizada é a entropia cruzada binária (binary cross-entropy).  \n",
        "\n",
        "A construção do discriminador da GAN utiliza o modelo sequencial da biblioteca Keras. O processo começa com a adição de uma camada totalmente conectada contendo 32 unidades, seguida pela aplicação da função de ativação LeakyReLU com um valor alpha de 0,01. O tensor de saída da camada totalmente conectada é então reduzido ao passar por outra camada totalmente conectada com oito unidades. Essa camada também é seguida por uma camada de ativação LeakyReLU com um valor alpha de 0,01. Por fim, uma camada Dense com uma função de ativação Sigmoid e uma única unidade é adicionada para gerar o resultado final da classificação binária."
      ],
      "metadata": {
        "id": "CRmpphXU5zP-"
      }
    },
    {
      "cell_type": "markdown",
      "source": [
        "<center><img src='https://drive.google.com/uc?id=1jqbj_X9O3fWtE53m9y1XIj1QyJ3Z_Ula' width=700></center>"
      ],
      "metadata": {
        "id": "Q19IFKE8l_cP"
      }
    },
    {
      "cell_type": "code",
      "source": [
        "def build_discriminator():\n",
        "  # Add layers one after one in the sequence\n",
        "  model = Sequential(name='Discriminator')\n",
        "  model.add(Input((2,)))\n",
        "  # First fully connected layer\n",
        "  model.add(Dense(32, kernel_initializer = 'he_uniform'))\n",
        "  # Add LeakyReLU activation function\n",
        "  model.add(LeakyReLU(0.01))\n",
        "  # Second fully connected layer\n",
        "  model.add(Dense(8, kernel_initializer = 'he_uniform'))\n",
        "  # Add LeakyReLU activation function\n",
        "  model.add(LeakyReLU(0.01))\n",
        "  # Output layer with the shape of 1\n",
        "  model.add(Dense(1, activation = 'sigmoid'))\n",
        "\n",
        "  return model"
      ],
      "metadata": {
        "id": "ulD3JJBx516u"
      },
      "execution_count": 13,
      "outputs": []
    },
    {
      "cell_type": "markdown",
      "source": [
        "## Construct Models\n",
        "Antes de treinar o modelo GAN e personalizar o loop de treinamento, é necessário construir os modelos e definir as funções de perda. Uma GAN é composta por dois modelos separados: um gerador e um discriminador, que são combinados em um terceiro modelo chamado adversarial. O discriminador é colocado sobre o gerador para formar o modelo adversarial.  \n",
        "\n",
        "Algoritmos de otimização como Stochastic Gradient Descent (SGD), Adam Optimizer, RMSprop e Adagrad podem ser utilizados no treinamento da GAN. O Adam Optimizer é comumente usado, enquanto RMSprop e Adagrad podem ser empregados caso o SGD tenha dificuldades para convergir.  \n",
        "\n",
        "No treinamento da GAN, são usadas duas funções de perda: uma para o modelo gerador e outra para o modelo discriminador. **O gerador tenta minimizar a perda, enquanto o discriminador tenta maximizá-la**. A função de perda do gerador é geralmente a entropia cruzada binária (binary cross-entropy), enquanto o discriminador pode usar tanto a entropia cruzada binária quanto a hinge loss. Tanto o modelo discriminador quanto o modelo adversarial são compilados com o otimizador Adam e a função de perda de entropia cruzada binária.  \n",
        "\n",
        "Para construir o modelo adversarial (GAN), o discriminador é inicialmente definido como não treinável. Isso significa que, durante o treinamento do modelo adversarial, apenas o gerador será atualizado."
      ],
      "metadata": {
        "id": "rS1-bIU6580V"
      }
    },
    {
      "cell_type": "code",
      "source": [
        "def construct_models(noise_dim):\n",
        "      # Build the discriminator model\n",
        "      discriminator = build_discriminator()\n",
        "      # Compile the discriminator\n",
        "      discriminator.compile(loss = 'binary_crossentropy' , optimizer = 'adam')\n",
        "      # Build the generator model\n",
        "      generator = build_generator(noise_dim)\n",
        "      # Freeze the discriminator during generator training\n",
        "      discriminator.trainable = False\n",
        "      gan = Sequential(name='Gan')\n",
        "      # Pit the generator and discriminator against each other\n",
        "      gan.add(generator)\n",
        "      gan.add(discriminator)\n",
        "      # Compile the GAN model\n",
        "      gan.compile(loss = 'binary_crossentropy', optimizer = 'adam')\n",
        "      return generator, discriminator, gan"
      ],
      "metadata": {
        "id": "DTD1-LYD6AKh"
      },
      "execution_count": 14,
      "outputs": []
    },
    {
      "cell_type": "code",
      "source": [
        "gen_, dis_, gan_ = construct_models(32)\n",
        "gan_.summary()"
      ],
      "metadata": {
        "colab": {
          "base_uri": "https://localhost:8080/",
          "height": 193
        },
        "id": "1CV4PZDsniWP",
        "outputId": "a9657fdb-d6b4-4fe7-fab6-22c9ce654666"
      },
      "execution_count": 15,
      "outputs": [
        {
          "output_type": "display_data",
          "data": {
            "text/plain": [
              "\u001b[1mModel: \"Gan\"\u001b[0m\n"
            ],
            "text/html": [
              "<pre style=\"white-space:pre;overflow-x:auto;line-height:normal;font-family:Menlo,'DejaVu Sans Mono',consolas,'Courier New',monospace\"><span style=\"font-weight: bold\">Model: \"Gan\"</span>\n",
              "</pre>\n"
            ]
          },
          "metadata": {}
        },
        {
          "output_type": "display_data",
          "data": {
            "text/plain": [
              "┏━━━━━━━━━━━━━━━━━━━━━━━━━━━━━━━━━┳━━━━━━━━━━━━━━━━━━━━━━━━┳━━━━━━━━━━━━━━━┓\n",
              "┃\u001b[1m \u001b[0m\u001b[1mLayer (type)                   \u001b[0m\u001b[1m \u001b[0m┃\u001b[1m \u001b[0m\u001b[1mOutput Shape          \u001b[0m\u001b[1m \u001b[0m┃\u001b[1m \u001b[0m\u001b[1m      Param #\u001b[0m\u001b[1m \u001b[0m┃\n",
              "┡━━━━━━━━━━━━━━━━━━━━━━━━━━━━━━━━━╇━━━━━━━━━━━━━━━━━━━━━━━━╇━━━━━━━━━━━━━━━┩\n",
              "│ Generator (\u001b[38;5;33mSequential\u001b[0m)          │ (\u001b[38;5;45mNone\u001b[0m, \u001b[38;5;34m2\u001b[0m)              │           \u001b[38;5;34m562\u001b[0m │\n",
              "├─────────────────────────────────┼────────────────────────┼───────────────┤\n",
              "│ Discriminator (\u001b[38;5;33mSequential\u001b[0m)      │ (\u001b[38;5;45mNone\u001b[0m, \u001b[38;5;34m1\u001b[0m)              │           \u001b[38;5;34m369\u001b[0m │\n",
              "└─────────────────────────────────┴────────────────────────┴───────────────┘\n"
            ],
            "text/html": [
              "<pre style=\"white-space:pre;overflow-x:auto;line-height:normal;font-family:Menlo,'DejaVu Sans Mono',consolas,'Courier New',monospace\">┏━━━━━━━━━━━━━━━━━━━━━━━━━━━━━━━━━┳━━━━━━━━━━━━━━━━━━━━━━━━┳━━━━━━━━━━━━━━━┓\n",
              "┃<span style=\"font-weight: bold\"> Layer (type)                    </span>┃<span style=\"font-weight: bold\"> Output Shape           </span>┃<span style=\"font-weight: bold\">       Param # </span>┃\n",
              "┡━━━━━━━━━━━━━━━━━━━━━━━━━━━━━━━━━╇━━━━━━━━━━━━━━━━━━━━━━━━╇━━━━━━━━━━━━━━━┩\n",
              "│ Generator (<span style=\"color: #0087ff; text-decoration-color: #0087ff\">Sequential</span>)          │ (<span style=\"color: #00d7ff; text-decoration-color: #00d7ff\">None</span>, <span style=\"color: #00af00; text-decoration-color: #00af00\">2</span>)              │           <span style=\"color: #00af00; text-decoration-color: #00af00\">562</span> │\n",
              "├─────────────────────────────────┼────────────────────────┼───────────────┤\n",
              "│ Discriminator (<span style=\"color: #0087ff; text-decoration-color: #0087ff\">Sequential</span>)      │ (<span style=\"color: #00d7ff; text-decoration-color: #00d7ff\">None</span>, <span style=\"color: #00af00; text-decoration-color: #00af00\">1</span>)              │           <span style=\"color: #00af00; text-decoration-color: #00af00\">369</span> │\n",
              "└─────────────────────────────────┴────────────────────────┴───────────────┘\n",
              "</pre>\n"
            ]
          },
          "metadata": {}
        },
        {
          "output_type": "display_data",
          "data": {
            "text/plain": [
              "\u001b[1m Total params: \u001b[0m\u001b[38;5;34m931\u001b[0m (3.64 KB)\n"
            ],
            "text/html": [
              "<pre style=\"white-space:pre;overflow-x:auto;line-height:normal;font-family:Menlo,'DejaVu Sans Mono',consolas,'Courier New',monospace\"><span style=\"font-weight: bold\"> Total params: </span><span style=\"color: #00af00; text-decoration-color: #00af00\">931</span> (3.64 KB)\n",
              "</pre>\n"
            ]
          },
          "metadata": {}
        },
        {
          "output_type": "display_data",
          "data": {
            "text/plain": [
              "\u001b[1m Trainable params: \u001b[0m\u001b[38;5;34m562\u001b[0m (2.20 KB)\n"
            ],
            "text/html": [
              "<pre style=\"white-space:pre;overflow-x:auto;line-height:normal;font-family:Menlo,'DejaVu Sans Mono',consolas,'Courier New',monospace\"><span style=\"font-weight: bold\"> Trainable params: </span><span style=\"color: #00af00; text-decoration-color: #00af00\">562</span> (2.20 KB)\n",
              "</pre>\n"
            ]
          },
          "metadata": {}
        },
        {
          "output_type": "display_data",
          "data": {
            "text/plain": [
              "\u001b[1m Non-trainable params: \u001b[0m\u001b[38;5;34m369\u001b[0m (1.44 KB)\n"
            ],
            "text/html": [
              "<pre style=\"white-space:pre;overflow-x:auto;line-height:normal;font-family:Menlo,'DejaVu Sans Mono',consolas,'Courier New',monospace\"><span style=\"font-weight: bold\"> Non-trainable params: </span><span style=\"color: #00af00; text-decoration-color: #00af00\">369</span> (1.44 KB)\n",
              "</pre>\n"
            ]
          },
          "metadata": {}
        }
      ]
    },
    {
      "cell_type": "code",
      "source": [
        "gen_.summary()"
      ],
      "metadata": {
        "colab": {
          "base_uri": "https://localhost:8080/",
          "height": 225
        },
        "id": "3MVgajTfn6Lo",
        "outputId": "c4885a5a-7ec6-432c-dc13-939a49c9873b"
      },
      "execution_count": 16,
      "outputs": [
        {
          "output_type": "display_data",
          "data": {
            "text/plain": [
              "\u001b[1mModel: \"Generator\"\u001b[0m\n"
            ],
            "text/html": [
              "<pre style=\"white-space:pre;overflow-x:auto;line-height:normal;font-family:Menlo,'DejaVu Sans Mono',consolas,'Courier New',monospace\"><span style=\"font-weight: bold\">Model: \"Generator\"</span>\n",
              "</pre>\n"
            ]
          },
          "metadata": {}
        },
        {
          "output_type": "display_data",
          "data": {
            "text/plain": [
              "┏━━━━━━━━━━━━━━━━━━━━━━━━━━━━━━━━━┳━━━━━━━━━━━━━━━━━━━━━━━━┳━━━━━━━━━━━━━━━┓\n",
              "┃\u001b[1m \u001b[0m\u001b[1mLayer (type)                   \u001b[0m\u001b[1m \u001b[0m┃\u001b[1m \u001b[0m\u001b[1mOutput Shape          \u001b[0m\u001b[1m \u001b[0m┃\u001b[1m \u001b[0m\u001b[1m      Param #\u001b[0m\u001b[1m \u001b[0m┃\n",
              "┡━━━━━━━━━━━━━━━━━━━━━━━━━━━━━━━━━╇━━━━━━━━━━━━━━━━━━━━━━━━╇━━━━━━━━━━━━━━━┩\n",
              "│ dense_3 (\u001b[38;5;33mDense\u001b[0m)                 │ (\u001b[38;5;45mNone\u001b[0m, \u001b[38;5;34m16\u001b[0m)             │           \u001b[38;5;34m528\u001b[0m │\n",
              "├─────────────────────────────────┼────────────────────────┼───────────────┤\n",
              "│ leaky_re_lu_2 (\u001b[38;5;33mLeakyReLU\u001b[0m)       │ (\u001b[38;5;45mNone\u001b[0m, \u001b[38;5;34m16\u001b[0m)             │             \u001b[38;5;34m0\u001b[0m │\n",
              "├─────────────────────────────────┼────────────────────────┼───────────────┤\n",
              "│ dense_4 (\u001b[38;5;33mDense\u001b[0m)                 │ (\u001b[38;5;45mNone\u001b[0m, \u001b[38;5;34m2\u001b[0m)              │            \u001b[38;5;34m34\u001b[0m │\n",
              "└─────────────────────────────────┴────────────────────────┴───────────────┘\n"
            ],
            "text/html": [
              "<pre style=\"white-space:pre;overflow-x:auto;line-height:normal;font-family:Menlo,'DejaVu Sans Mono',consolas,'Courier New',monospace\">┏━━━━━━━━━━━━━━━━━━━━━━━━━━━━━━━━━┳━━━━━━━━━━━━━━━━━━━━━━━━┳━━━━━━━━━━━━━━━┓\n",
              "┃<span style=\"font-weight: bold\"> Layer (type)                    </span>┃<span style=\"font-weight: bold\"> Output Shape           </span>┃<span style=\"font-weight: bold\">       Param # </span>┃\n",
              "┡━━━━━━━━━━━━━━━━━━━━━━━━━━━━━━━━━╇━━━━━━━━━━━━━━━━━━━━━━━━╇━━━━━━━━━━━━━━━┩\n",
              "│ dense_3 (<span style=\"color: #0087ff; text-decoration-color: #0087ff\">Dense</span>)                 │ (<span style=\"color: #00d7ff; text-decoration-color: #00d7ff\">None</span>, <span style=\"color: #00af00; text-decoration-color: #00af00\">16</span>)             │           <span style=\"color: #00af00; text-decoration-color: #00af00\">528</span> │\n",
              "├─────────────────────────────────┼────────────────────────┼───────────────┤\n",
              "│ leaky_re_lu_2 (<span style=\"color: #0087ff; text-decoration-color: #0087ff\">LeakyReLU</span>)       │ (<span style=\"color: #00d7ff; text-decoration-color: #00d7ff\">None</span>, <span style=\"color: #00af00; text-decoration-color: #00af00\">16</span>)             │             <span style=\"color: #00af00; text-decoration-color: #00af00\">0</span> │\n",
              "├─────────────────────────────────┼────────────────────────┼───────────────┤\n",
              "│ dense_4 (<span style=\"color: #0087ff; text-decoration-color: #0087ff\">Dense</span>)                 │ (<span style=\"color: #00d7ff; text-decoration-color: #00d7ff\">None</span>, <span style=\"color: #00af00; text-decoration-color: #00af00\">2</span>)              │            <span style=\"color: #00af00; text-decoration-color: #00af00\">34</span> │\n",
              "└─────────────────────────────────┴────────────────────────┴───────────────┘\n",
              "</pre>\n"
            ]
          },
          "metadata": {}
        },
        {
          "output_type": "display_data",
          "data": {
            "text/plain": [
              "\u001b[1m Total params: \u001b[0m\u001b[38;5;34m562\u001b[0m (2.20 KB)\n"
            ],
            "text/html": [
              "<pre style=\"white-space:pre;overflow-x:auto;line-height:normal;font-family:Menlo,'DejaVu Sans Mono',consolas,'Courier New',monospace\"><span style=\"font-weight: bold\"> Total params: </span><span style=\"color: #00af00; text-decoration-color: #00af00\">562</span> (2.20 KB)\n",
              "</pre>\n"
            ]
          },
          "metadata": {}
        },
        {
          "output_type": "display_data",
          "data": {
            "text/plain": [
              "\u001b[1m Trainable params: \u001b[0m\u001b[38;5;34m562\u001b[0m (2.20 KB)\n"
            ],
            "text/html": [
              "<pre style=\"white-space:pre;overflow-x:auto;line-height:normal;font-family:Menlo,'DejaVu Sans Mono',consolas,'Courier New',monospace\"><span style=\"font-weight: bold\"> Trainable params: </span><span style=\"color: #00af00; text-decoration-color: #00af00\">562</span> (2.20 KB)\n",
              "</pre>\n"
            ]
          },
          "metadata": {}
        },
        {
          "output_type": "display_data",
          "data": {
            "text/plain": [
              "\u001b[1m Non-trainable params: \u001b[0m\u001b[38;5;34m0\u001b[0m (0.00 B)\n"
            ],
            "text/html": [
              "<pre style=\"white-space:pre;overflow-x:auto;line-height:normal;font-family:Menlo,'DejaVu Sans Mono',consolas,'Courier New',monospace\"><span style=\"font-weight: bold\"> Non-trainable params: </span><span style=\"color: #00af00; text-decoration-color: #00af00\">0</span> (0.00 B)\n",
              "</pre>\n"
            ]
          },
          "metadata": {}
        }
      ]
    },
    {
      "cell_type": "code",
      "source": [
        "dis_.summary()"
      ],
      "metadata": {
        "colab": {
          "base_uri": "https://localhost:8080/",
          "height": 289
        },
        "id": "_GcuF2uEoKPP",
        "outputId": "82e5fb14-e4d4-481a-eb59-2b2eb715dba3"
      },
      "execution_count": 17,
      "outputs": [
        {
          "output_type": "display_data",
          "data": {
            "text/plain": [
              "\u001b[1mModel: \"Discriminator\"\u001b[0m\n"
            ],
            "text/html": [
              "<pre style=\"white-space:pre;overflow-x:auto;line-height:normal;font-family:Menlo,'DejaVu Sans Mono',consolas,'Courier New',monospace\"><span style=\"font-weight: bold\">Model: \"Discriminator\"</span>\n",
              "</pre>\n"
            ]
          },
          "metadata": {}
        },
        {
          "output_type": "display_data",
          "data": {
            "text/plain": [
              "┏━━━━━━━━━━━━━━━━━━━━━━━━━━━━━━━━━┳━━━━━━━━━━━━━━━━━━━━━━━━┳━━━━━━━━━━━━━━━┓\n",
              "┃\u001b[1m \u001b[0m\u001b[1mLayer (type)                   \u001b[0m\u001b[1m \u001b[0m┃\u001b[1m \u001b[0m\u001b[1mOutput Shape          \u001b[0m\u001b[1m \u001b[0m┃\u001b[1m \u001b[0m\u001b[1m      Param #\u001b[0m\u001b[1m \u001b[0m┃\n",
              "┡━━━━━━━━━━━━━━━━━━━━━━━━━━━━━━━━━╇━━━━━━━━━━━━━━━━━━━━━━━━╇━━━━━━━━━━━━━━━┩\n",
              "│ dense (\u001b[38;5;33mDense\u001b[0m)                   │ (\u001b[38;5;45mNone\u001b[0m, \u001b[38;5;34m32\u001b[0m)             │            \u001b[38;5;34m96\u001b[0m │\n",
              "├─────────────────────────────────┼────────────────────────┼───────────────┤\n",
              "│ leaky_re_lu (\u001b[38;5;33mLeakyReLU\u001b[0m)         │ (\u001b[38;5;45mNone\u001b[0m, \u001b[38;5;34m32\u001b[0m)             │             \u001b[38;5;34m0\u001b[0m │\n",
              "├─────────────────────────────────┼────────────────────────┼───────────────┤\n",
              "│ dense_1 (\u001b[38;5;33mDense\u001b[0m)                 │ (\u001b[38;5;45mNone\u001b[0m, \u001b[38;5;34m8\u001b[0m)              │           \u001b[38;5;34m264\u001b[0m │\n",
              "├─────────────────────────────────┼────────────────────────┼───────────────┤\n",
              "│ leaky_re_lu_1 (\u001b[38;5;33mLeakyReLU\u001b[0m)       │ (\u001b[38;5;45mNone\u001b[0m, \u001b[38;5;34m8\u001b[0m)              │             \u001b[38;5;34m0\u001b[0m │\n",
              "├─────────────────────────────────┼────────────────────────┼───────────────┤\n",
              "│ dense_2 (\u001b[38;5;33mDense\u001b[0m)                 │ (\u001b[38;5;45mNone\u001b[0m, \u001b[38;5;34m1\u001b[0m)              │             \u001b[38;5;34m9\u001b[0m │\n",
              "└─────────────────────────────────┴────────────────────────┴───────────────┘\n"
            ],
            "text/html": [
              "<pre style=\"white-space:pre;overflow-x:auto;line-height:normal;font-family:Menlo,'DejaVu Sans Mono',consolas,'Courier New',monospace\">┏━━━━━━━━━━━━━━━━━━━━━━━━━━━━━━━━━┳━━━━━━━━━━━━━━━━━━━━━━━━┳━━━━━━━━━━━━━━━┓\n",
              "┃<span style=\"font-weight: bold\"> Layer (type)                    </span>┃<span style=\"font-weight: bold\"> Output Shape           </span>┃<span style=\"font-weight: bold\">       Param # </span>┃\n",
              "┡━━━━━━━━━━━━━━━━━━━━━━━━━━━━━━━━━╇━━━━━━━━━━━━━━━━━━━━━━━━╇━━━━━━━━━━━━━━━┩\n",
              "│ dense (<span style=\"color: #0087ff; text-decoration-color: #0087ff\">Dense</span>)                   │ (<span style=\"color: #00d7ff; text-decoration-color: #00d7ff\">None</span>, <span style=\"color: #00af00; text-decoration-color: #00af00\">32</span>)             │            <span style=\"color: #00af00; text-decoration-color: #00af00\">96</span> │\n",
              "├─────────────────────────────────┼────────────────────────┼───────────────┤\n",
              "│ leaky_re_lu (<span style=\"color: #0087ff; text-decoration-color: #0087ff\">LeakyReLU</span>)         │ (<span style=\"color: #00d7ff; text-decoration-color: #00d7ff\">None</span>, <span style=\"color: #00af00; text-decoration-color: #00af00\">32</span>)             │             <span style=\"color: #00af00; text-decoration-color: #00af00\">0</span> │\n",
              "├─────────────────────────────────┼────────────────────────┼───────────────┤\n",
              "│ dense_1 (<span style=\"color: #0087ff; text-decoration-color: #0087ff\">Dense</span>)                 │ (<span style=\"color: #00d7ff; text-decoration-color: #00d7ff\">None</span>, <span style=\"color: #00af00; text-decoration-color: #00af00\">8</span>)              │           <span style=\"color: #00af00; text-decoration-color: #00af00\">264</span> │\n",
              "├─────────────────────────────────┼────────────────────────┼───────────────┤\n",
              "│ leaky_re_lu_1 (<span style=\"color: #0087ff; text-decoration-color: #0087ff\">LeakyReLU</span>)       │ (<span style=\"color: #00d7ff; text-decoration-color: #00d7ff\">None</span>, <span style=\"color: #00af00; text-decoration-color: #00af00\">8</span>)              │             <span style=\"color: #00af00; text-decoration-color: #00af00\">0</span> │\n",
              "├─────────────────────────────────┼────────────────────────┼───────────────┤\n",
              "│ dense_2 (<span style=\"color: #0087ff; text-decoration-color: #0087ff\">Dense</span>)                 │ (<span style=\"color: #00d7ff; text-decoration-color: #00d7ff\">None</span>, <span style=\"color: #00af00; text-decoration-color: #00af00\">1</span>)              │             <span style=\"color: #00af00; text-decoration-color: #00af00\">9</span> │\n",
              "└─────────────────────────────────┴────────────────────────┴───────────────┘\n",
              "</pre>\n"
            ]
          },
          "metadata": {}
        },
        {
          "output_type": "display_data",
          "data": {
            "text/plain": [
              "\u001b[1m Total params: \u001b[0m\u001b[38;5;34m369\u001b[0m (1.44 KB)\n"
            ],
            "text/html": [
              "<pre style=\"white-space:pre;overflow-x:auto;line-height:normal;font-family:Menlo,'DejaVu Sans Mono',consolas,'Courier New',monospace\"><span style=\"font-weight: bold\"> Total params: </span><span style=\"color: #00af00; text-decoration-color: #00af00\">369</span> (1.44 KB)\n",
              "</pre>\n"
            ]
          },
          "metadata": {}
        },
        {
          "output_type": "display_data",
          "data": {
            "text/plain": [
              "\u001b[1m Trainable params: \u001b[0m\u001b[38;5;34m0\u001b[0m (0.00 B)\n"
            ],
            "text/html": [
              "<pre style=\"white-space:pre;overflow-x:auto;line-height:normal;font-family:Menlo,'DejaVu Sans Mono',consolas,'Courier New',monospace\"><span style=\"font-weight: bold\"> Trainable params: </span><span style=\"color: #00af00; text-decoration-color: #00af00\">0</span> (0.00 B)\n",
              "</pre>\n"
            ]
          },
          "metadata": {}
        },
        {
          "output_type": "display_data",
          "data": {
            "text/plain": [
              "\u001b[1m Non-trainable params: \u001b[0m\u001b[38;5;34m369\u001b[0m (1.44 KB)\n"
            ],
            "text/html": [
              "<pre style=\"white-space:pre;overflow-x:auto;line-height:normal;font-family:Menlo,'DejaVu Sans Mono',consolas,'Courier New',monospace\"><span style=\"font-weight: bold\"> Non-trainable params: </span><span style=\"color: #00af00; text-decoration-color: #00af00\">369</span> (1.44 KB)\n",
              "</pre>\n"
            ]
          },
          "metadata": {}
        }
      ]
    },
    {
      "cell_type": "markdown",
      "source": [
        "## Define Loss Functions\n",
        "O próximo passo é criar as funções de perda utilizadas durante o processo de treinamento para calcular as perdas do discriminador e do gerador. Nesta etapa, a função `train_on_batch` é empregada para treinar o modelo em um único lote de dados junto com seus respectivos rótulos. Em seguida, os parâmetros do modelo são atualizados com base na perda calculada entre os rótulos previstos e os rótulos reais.  \n",
        "\n",
        "A função de perda do discriminador recebe como entrada os dados $ X $, que consistem em uma combinação de pontos de dados reais e falsos, juntamente com seus rótulos $ y $. Já a função de perda do gerador recebe como entrada o ruído gerado associado aos rótulos reais."
      ],
      "metadata": {
        "id": "JLBt-bF26CjM"
      }
    },
    {
      "cell_type": "code",
      "source": [
        "# Define discriminator loss function\n",
        "def disc_loss(model, X, y):\n",
        "\t      # Train the model on a batch of data and return loss value\n",
        "\t      return model.train_on_batch(X,y)\n",
        "# Define generator loss function\n",
        "def gen_loss(model, X, y):\n",
        "\t      # Train the model on a batch of data and return loss value\n",
        "\t      return model.train_on_batch(X,y)"
      ],
      "metadata": {
        "id": "NJ2SW5Kl6Gr9"
      },
      "execution_count": 18,
      "outputs": []
    },
    {
      "cell_type": "markdown",
      "source": [
        "## Plot Generated Data Samples\n",
        "Plotagem das Amostras de Dados Geradas. Antes de iniciar o treinamento do modelo GAN, é necessário definir uma função que permita a visualização dos pontos gerados. Essa função será chamada durante a fase de treinamento para avaliar o desempenho do modelo com base na qualidade dos pontos gerados.  \n",
        "\n",
        "Os pontos reais e gerados serão plotados usando um gráfico de dispersão (*scatter plot*). No gráfico, as amostras reais serão representadas na cor vermelha, enquanto as amostras geradas serão representadas na cor azul."
      ],
      "metadata": {
        "id": "4j91CVlf6d4y"
      }
    },
    {
      "cell_type": "code",
      "source": [
        "def print_generated_samples(batch_size, noise_dim):\n",
        "      # Create test data\n",
        "      X_test = np.random.uniform(low=-1, high=1, size=(batch_size, 1))\n",
        "      y_test = X_test # case of line\n",
        "      # y_test = np.sin(np.pi*X_test)  # case of sine\n",
        "      # Generate samples\n",
        "      # noise = np.random.normal(0, 1, (batch_size, noise_dim))\n",
        "      noise = np.random.uniform(low=-1, high=1, size=(batch_size, noise_dim))\n",
        "      gen_data = generator.predict(noise, verbose=0)\n",
        "      # Plot generated data\n",
        "      plt.figure(figsize=(7, 5))\n",
        "      #plt.scatter(X_test, y_test, color = 'red')\n",
        "      plt.scatter(X_test, y_test, color = 'red', s=5, alpha=.5)\n",
        "      plt.scatter(gen_data[:,0], gen_data[:,1], color = 'blue', s=6)\n",
        "      plt.xlim(-1.5,1.5)\n",
        "      plt.ylim(-1.5,1.5)\n",
        "      plt.legend([\"real data\", \"generated data\"], loc = \"lower right\")\n",
        "      plt.show()"
      ],
      "metadata": {
        "id": "xUkFu_mG6jwg"
      },
      "execution_count": 19,
      "outputs": []
    },
    {
      "cell_type": "markdown",
      "source": [
        "## GAN Training\n",
        "No treinamento de modelos GAN, o uso de épocas (*epochs*) e lotes (*batches*) é uma abordagem amplamente utilizada. O número de épocas determina por quanto tempo o modelo é exposto aos dados de treinamento – um número maior pode levar a um melhor desempenho, mas também aumenta o risco de *overfitting*. Por outro lado, o tamanho do lote (*batch size*) define a porção dos dados de treinamento usada para atualizar os pesos do modelo, influenciando tanto a velocidade quanto a estabilidade do treinamento. Um tamanho de lote maior pode melhorar o desempenho, mas exige mais recursos computacionais e tempo de processamento.  \n",
        "\n",
        "Em cada época, o gerador e o discriminador são treinados alternadamente usando um lote de pontos de dados reais e gerados. Esse processo se repete por múltiplas épocas (neste caso, 600) para otimizar os pesos e alcançar o desempenho desejado. O número de lotes por época e o total de épocas são definidos com base no tamanho dos dados, na complexidade do modelo e no desempenho esperado. A complexidade do modelo, incluindo o número de camadas e neurônios, também influencia o desempenho. Modelos mais complexos podem obter melhores resultados, mas correm maior risco de *overfitting*.  \n",
        "\n",
        "O treinamento termina quando o gerador passa a produzir amostras de $ y $ e $ x $ indistinguíveis dos pontos de dados reais. Isso significa que o gerador conseguiu enganar o discriminador com alta precisão. O desempenho do modelo será visualizado por meio de um gráfico em um eixo 2D, mostrando a evolução dos pontos gerados ao longo das épocas."
      ],
      "metadata": {
        "id": "18Krii9S7yfY"
      }
    },
    {
      "cell_type": "markdown",
      "source": [
        "<figure>\n",
        "<center>\n",
        "<img src='https://drive.google.com/uc?id=1daV8uUO9KbT-bk0EVC-QPBaifGfRpbKQ' width=600/>\n",
        "<figcaption>Training stage in the discriminator</figcaption></center>\n",
        "</figure>\n",
        "\n",
        "<figure>\n",
        "<center>\n",
        "<img src='https://drive.google.com/uc?id=1_rS0_sWnvXwFskR3AY9n7_T18EmIaLDL' width=700/>\n",
        "<figcaption>Training stage in the generator</figcaption></center>\n",
        "</figure>"
      ],
      "metadata": {
        "id": "rQhr_bLxMMQ1"
      }
    },
    {
      "cell_type": "code",
      "source": [
        "def training(generator, discriminator, gan, noise_dim, epochs, batch_size):\n",
        "  disc_loss_hist = []\n",
        "  gen_loss_hist = []\n",
        "  # Enumerate over epochs\n",
        "  for e in range(epochs):\n",
        "          # Random normal array for generator input\n",
        "          noise = np.random.normal(0, 1, (batch_size, noise_dim))\n",
        "          # Create fake images by the generator\n",
        "          fake_samples = generator.predict(noise, verbose=0)\n",
        "          # Stack X and Y variable horizontally to build the dataset\n",
        "          real_data = np.hstack((X_train, y_train))\n",
        "          # Get a random real data points from the training data\n",
        "          real_data = real_data[np.random.randint(0, real_data.shape[0], size = batch_size)]\n",
        "          # Create real labels\n",
        "          real_labels = np.ones((batch_size, 1))*0.9 # smoothness 0.9\n",
        "          # Generate fake labels generated data points as zeros\n",
        "          fake_labels = np.zeros((batch_size, 1))\n",
        "\n",
        "          # train discriminator\n",
        "          discriminator.trainable = True\n",
        "          # Calculate the loss of real data points. Train the model on a batch of data and return loss value\n",
        "          discriminator_loss_real = disc_loss(discriminator, real_data, real_labels)\n",
        "          # Calculate the loss of generated data points. Train the model on a batch of data and return loss value\n",
        "          discriminator_loss_fake = disc_loss(discriminator, fake_samples, fake_labels)\n",
        "          discriminator.trainable = False\n",
        "\n",
        "          # Compute total discriminator loss\n",
        "          discriminator_loss = 0.5 * np.add(discriminator_loss_real, discriminator_loss_fake)\n",
        "          disc_loss_hist.append(discriminator_loss)\n",
        "          # Generate random points as input for the generator\n",
        "          # x_gan = np.random.normal(0, 1, (batch_size, noise_dim))\n",
        "          x_gan = np.random.uniform(low=-1, high=1, size=(batch_size, noise_dim))\n",
        "          # generate real labels for gan\n",
        "          y_gan = np.ones((batch_size, 1))\n",
        "          #calculate the generator loss\n",
        "          gan_loss = gen_loss(gan, x_gan, y_gan)\n",
        "          gen_loss_hist.append(gan_loss)\n",
        "\n",
        "          # Print the progress\n",
        "          if e % 10 == 0 or e == epochs-1:\n",
        "            display.clear_output(wait=True)\n",
        "            print('Epoch: ', e, ' Generator Loss: ', gan_loss , ' Discriminator Loss: ', discriminator_loss)\n",
        "            print_generated_samples(batch_size, noise_dim)\n",
        "\n",
        "  return disc_loss_hist, gen_loss_hist"
      ],
      "metadata": {
        "id": "qqRrKDu97z2Z"
      },
      "execution_count": 20,
      "outputs": []
    },
    {
      "cell_type": "markdown",
      "source": [
        "## Run the model\n",
        "Para iniciar o processo de treinamento, é necessário primeiro chamar a função de treinamento e construir os modelos. Também é essencial definir o tamanho do lote (*batch size*) e o número de épocas (*epochs*), pois são parâmetros cruciais no processo de treinamento.  \n",
        "\n",
        "Como mencionado anteriormente, o desempenho do modelo generativo durante o treinamento está diretamente relacionado ao número de iterações de treinamento, comumente chamadas de épocas. À medida que as épocas aumentam, os pontos de dados gerados tornam-se mais realistas e se assemelham mais aos dados de treinamento. Isso ocorre devido à melhoria da capacidade do gerador de enganar o discriminador.  \n",
        "\n",
        "Serão apresentados múltiplos exemplos para destacar a relação entre o aumento do número de épocas e a qualidade dos pontos de dados gerados."
      ],
      "metadata": {
        "id": "AevSxmln8mnc"
      }
    },
    {
      "cell_type": "code",
      "source": [
        "# Construct the models\n",
        "noise_dim = 32\n",
        "generator, discriminator, gan = construct_models(noise_dim)\n",
        "# Train GAN\n",
        "batch_size = 64\n",
        "epochs = 1000\n",
        "discriminator_loss, generator_loss = training(generator, discriminator, gan, noise_dim, epochs, batch_size)"
      ],
      "metadata": {
        "colab": {
          "base_uri": "https://localhost:8080/",
          "height": 469
        },
        "id": "43DmHgTIY7Vo",
        "outputId": "e4d6d77a-50f8-42a8-e684-37cc40b607c4"
      },
      "execution_count": 21,
      "outputs": [
        {
          "output_type": "stream",
          "name": "stdout",
          "text": [
            "Epoch:  999  Generator Loss:  0.79720414  Discriminator Loss:  0.66254926\n"
          ]
        },
        {
          "output_type": "display_data",
          "data": {
            "text/plain": [
              "<Figure size 700x500 with 1 Axes>"
            ],
            "image/png": "[encoded data removed]"
          },
          "metadata": {}
        }
      ]
    },
    {
      "cell_type": "code",
      "source": [
        "# Trained GAN prediction\n",
        "print_generated_samples(batch_size, noise_dim)"
      ],
      "metadata": {
        "colab": {
          "base_uri": "https://localhost:8080/",
          "height": 451
        },
        "id": "DBboCKGjri7t",
        "outputId": "9a87a615-e158-4c1d-e4ba-8249152253db"
      },
      "execution_count": 22,
      "outputs": [
        {
          "output_type": "display_data",
          "data": {
            "text/plain": [
              "<Figure size 700x500 with 1 Axes>"
            ],
            "image/png": "[encoded data removed]"
          },
          "metadata": {}
        }
      ]
    },
    {
      "cell_type": "code",
      "source": [
        "plt.plot(discriminator_loss, label='discriminator')\n",
        "plt.plot(generator_loss, label='generator')\n",
        "plt.title('Training Loss')\n",
        "plt.xlabel(\"Epochs\")\n",
        "plt.ylabel(\"Loss\")\n",
        "plt.legend()\n",
        "plt.show()"
      ],
      "metadata": {
        "colab": {
          "base_uri": "https://localhost:8080/",
          "height": 472
        },
        "id": "19tlxFLXCqyS",
        "outputId": "ad1624ef-4b05-469b-c6ae-7285730203b5"
      },
      "execution_count": 23,
      "outputs": [
        {
          "output_type": "display_data",
          "data": {
            "text/plain": [
              "<Figure size 640x480 with 1 Axes>"
            ],
            "image/png": "[encoded data removed]"
          },
          "metadata": {}
        }
      ]
    },
    {
      "cell_type": "markdown",
      "source": [
        "## Desafios Comuns ao Implementar GANs  \n",
        "Diversos obstáculos e erros podem surgir ao construir e treinar um modelo GAN. Entre eles, está o *model collapse* (colapso do modelo), onde o gerador produz uma saída limitada e falha em capturar a diversidade dos dados. A instabilidade no treinamento do modelo, onde o gerador e o discriminador oscilam em vez de convergirem para uma solução estável, é outro erro comum. Além disso, o problema do gradiente que desaparece (*vanishing gradient*), onde os gradientes no processo de treinamento se tornam muito pequenos, também pode dificultar o treinamento do modelo.  \n",
        "\n",
        "Outro obstáculo comum é o *overfitting* (sobreajuste), onde o modelo é excessivamente complexo e memoriza os dados de treinamento. A seleção de uma arquitetura de modelo apropriada, o ajuste de hiperparâmetros e o uso de técnicas de regularização podem ajudar a resolver esses problemas."
      ],
      "metadata": {
        "id": "_QxbdLOQYnHb"
      }
    },
    {
      "cell_type": "markdown",
      "source": [
        "##Referências\n",
        "[1] S. Kaddoura. **A Primer on Generative Adversarial Networks**, SpringerBriefs, Switzerland AG, 2023.\n",
        "\n",
        "[2] https://machinelearningmastery.com/how-to-develop-a-generative-adversarial-network-for-a-1-dimensional-function-from-scratch-in-keras/\n",
        "\n",
        "[3] https://gist.github.com/vedraiyani/46736bceb32fd81ee2d8733a7071a47e\n",
        "\n",
        "[4] https://arxiv.org/abs/2312.09459\n",
        "\n",
        "[5] https://www.sciencedirect.com/science/article/abs/pii/S0168169919326705\n",
        "\n",
        "[6] https://www.kaggle.com/code/polomarco/1d-gan-for-ecg-synthesis\n",
        "\n",
        "[7] [Redes Adversariais Generativas (GANs)](https://pownfmqo.manus.space/)"
      ],
      "metadata": {
        "id": "A4nigcQRhbE4"
      }
    },
    {
      "cell_type": "markdown",
      "source": [
        "## Exercícios\n",
        "1. Alterar a função de ativação do Gerador para *linear* e comparar o rendimento da rede.\n",
        "1. Modificar o `negative_slope`=0.1, 0.2 e 0.3 da função *LeakyReLU* e verificar o rendimento da rede assim como o tempo de convergência.\n",
        "1. Comentar o gráfico da perda (função custo) e verificar a oscilação da rede ao longo das épocas de treinamento e qual sua tendência.\n",
        "1. Depois de treinada a rede, criar (ou utilizar uma biblioteca) de uma função métrica com a média dos erros quadráticos para comparações de rendemento da rede.\n",
        "1. Alterar a arquitetura do gerador com uma camada inicial de 64 neurônios, seguida de uma camada oculta de 32 neurônios, depois outra camada oculta de 16 neurônios e a camada final de 2 neurônios. Mantenha as funções de ativação utilizadas. Compare os resultados e o rendimento da rede.\n",
        "1. Modificar a função de treinamento da rede para uma parábola. Comente os resultados.\n",
        "1. Modificar a função de treinamento da rede para uma senoide. Comente os resultados."
      ],
      "metadata": {
        "id": "v0UA-Xz8v7Mo"
      }
    }
  ],
  "metadata": {
    "colab": {
      "provenance": [],
      "gpuType": "T4",
      "include_colab_link": true
    },
    "kernelspec": {
      "display_name": "Python 3",
      "name": "python3"
    },
    "language_info": {
      "name": "python"
    },
    "accelerator": "GPU"
  },
  "nbformat": 4,
  "nbformat_minor": 0
}